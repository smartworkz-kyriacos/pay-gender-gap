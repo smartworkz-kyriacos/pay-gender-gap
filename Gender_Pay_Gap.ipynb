{
 "cells": [
  {
   "cell_type": "code",
   "execution_count": null,
   "metadata": {},
   "outputs": [],
   "source": [
    "# https://www.kaggle.com/nilimajauhari/glassdoor-analyze-gender-pay-gap\n",
    "\n",
    "# Gender pay gap study"
   ]
  },
  {
   "cell_type": "code",
   "execution_count": null,
   "metadata": {},
   "outputs": [],
   "source": [
    "import numpy as np\n",
    "import pandas as pd\n",
    "import matplotlib.pyplot as plt\n",
    "import seaborn as sns\n",
    "%matplotlib inline\n",
    "sns.set_theme()\n",
    "from scipy import stats\n",
    "import warnings\n",
    "warnings.filterwarnings(\"ignore\")\n",
    "plt.rcParams['figure.figsize']=(12,8)"
   ]
  },
  {
   "cell_type": "code",
   "execution_count": null,
   "metadata": {},
   "outputs": [],
   "source": [
    "# load and read data\n",
    "\n",
    "pay = pd.read_csv('glassdoor_gender_pay_gap.csv')"
   ]
  },
  {
   "cell_type": "code",
   "execution_count": null,
   "metadata": {},
   "outputs": [],
   "source": [
    "# brief summary of data\n",
    "\n",
    "pay.info()"
   ]
  },
  {
   "cell_type": "code",
   "execution_count": null,
   "metadata": {},
   "outputs": [],
   "source": [
    "# brief overview of columns\n",
    "\n",
    "pay.columns"
   ]
  },
  {
   "cell_type": "code",
   "execution_count": null,
   "metadata": {},
   "outputs": [],
   "source": [
    "# convert column names to lower case\n",
    "\n",
    "pay.columns = pay.columns.map(lambda x: x.lower())"
   ]
  },
  {
   "cell_type": "code",
   "execution_count": null,
   "metadata": {},
   "outputs": [],
   "source": [
    "# brief overview of column names\n",
    "\n",
    "pay.columns"
   ]
  },
  {
   "cell_type": "code",
   "execution_count": null,
   "metadata": {},
   "outputs": [],
   "source": [
    "# brief overview of first 5 rows of data\n",
    "\n",
    "pay.head()"
   ]
  },
  {
   "cell_type": "code",
   "execution_count": null,
   "metadata": {},
   "outputs": [],
   "source": [
    "# value counts of all unique values of jobtitle\n",
    "\n",
    "pay.jobtitle.value_counts()"
   ]
  },
  {
   "cell_type": "code",
   "execution_count": null,
   "metadata": {},
   "outputs": [],
   "source": [
    "# compute basepay for females\n",
    "\n",
    "fem_pay = pay.loc[pay['gender']=='Female','basepay']"
   ]
  },
  {
   "cell_type": "code",
   "execution_count": null,
   "metadata": {},
   "outputs": [],
   "source": [
    "# compute basepay for males\n",
    "male_pay = pay.loc[pay['gender']=='Male','basepay']"
   ]
  },
  {
   "cell_type": "code",
   "execution_count": null,
   "metadata": {},
   "outputs": [],
   "source": [
    "# compare average base pay according to gender \n",
    "\n",
    "fig=plt.gcf()\n",
    "fig.set_size_inches(18,25)\n",
    "\n",
    "plt.subplot(2,1,1)\n",
    "fem_pay = pay.loc[pay['gender']=='Female','basepay'].hist(bins=70)\n",
    "male_pay = pay.loc[pay['gender']=='Male','basepay'].hist(bins=70,alpha=.4)\n",
    "plt.xlabel('Base Pay');\n",
    "plt.ylabel('Counts');\n",
    "plt.title('Comparing The Base Pay Between Gender', Fontsize=17);\n",
    "plt.legend(['Female','Male']);\n",
    "\n",
    "\n",
    "# using boxplot to visualize the difference in base pay between female and male\n",
    "plt.subplot(2,1,2)\n",
    "sns.boxplot(data = pay, y='gender', x='basepay');\n",
    "plt.title('Comparing Basepay Between Gender', fontsize=17);"
   ]
  },
  {
   "cell_type": "markdown",
   "metadata": {},
   "source": [
    "### Is the gender pay gap significant?  We will do a hypothesis testing to determine whether the pay gap is significant or not.\n",
    "#### Null hypothesis: there are no gender pay gap\n",
    "#### Alternative hypothesis: there is gender pay gap"
   ]
  },
  {
   "cell_type": "code",
   "execution_count": null,
   "metadata": {},
   "outputs": [],
   "source": [
    "# compute differences in average gender pay gap represented by p-value\n",
    "\n",
    "a = pay.loc[pay['gender']=='Female','basepay']\n",
    "b = pay.loc[pay['gender']=='Male','basepay']\n",
    "\n",
    "t,p = stats.ttest_ind(a,b)\n",
    "print(f\" The P Value is: {p}, we reject null hypothesis.\")"
   ]
  },
  {
   "cell_type": "markdown",
   "metadata": {},
   "source": [
    "### Since the P value is < 0.05, we will reject the null hypothesis, and determine that the gender pay gap is significant, and cannot be dismissed as a myth!"
   ]
  },
  {
   "cell_type": "code",
   "execution_count": null,
   "metadata": {},
   "outputs": [],
   "source": [
    "# Visualizing the gender pay gap with median basepay\n",
    "\n",
    "pay.groupby('gender')['basepay'].median().plot(kind='bar');\n",
    "plt.xlabel('Gender', fontsize=14);\n",
    "plt.ylabel('Base Pay', fontsize=14);\n",
    "plt.title('Comparison Of Gender Median Base Pay', fontsize=17);"
   ]
  },
  {
   "cell_type": "markdown",
   "metadata": {},
   "source": [
    "### The gender pay gap is 8.46% or USD8,300 a year."
   ]
  },
  {
   "cell_type": "code",
   "execution_count": null,
   "metadata": {},
   "outputs": [],
   "source": [
    "# computing the gender pay gap\n",
    "\n",
    "gender_pay_both = pay.groupby('gender')['basepay'].median()\n",
    "fem_pay = gender_pay_both.loc['Female']\n",
    "mal_pay = gender_pay_both.loc['Male']\n",
    "\n",
    "pay_diff = round(((mal_pay - fem_pay) / (mal_pay))*100,2)\n",
    "print(f\"The gender pay gap is {pay_diff}%\")\n",
    "print(f\".....speaking of which the difference is ${mal_pay-fem_pay} a year\")\n",
    "print(f\"The median basepay for female is ${fem_pay}\")\n",
    "print(f\"The median basepay for male is ${mal_pay}....which is quite a big gap.\")"
   ]
  },
  {
   "cell_type": "markdown",
   "metadata": {},
   "source": [
    "### Let's try it out.....I am a Data Scientist with a Masters Degree and 41 years old..."
   ]
  },
  {
   "cell_type": "code",
   "execution_count": null,
   "metadata": {},
   "outputs": [],
   "source": [
    "# I am a Data Scientist with a Masters Degree and 41 years old. Compute median gender pay gap.\n",
    "\n",
    "yours = (pay['jobtitle']=='Data Scientist') & (pay['education']=='Masters') & (pay['age']>35) & (pay['age']<54)\n",
    "your_pay = pay[yours].groupby('gender')['basepay'].median()\n",
    "your_pay_gap = ((your_pay.loc['Male']-your_pay.loc['Female'])/your_pay.loc['Male'])*100\n",
    "print(f\"The gender pay gap based on your context is {your_pay_gap:.1f}%\")\n",
    "pay[yours].groupby('gender')['basepay'].median().plot.bar();\n",
    "plt.title('Median Base Pay', fontsize=17);"
   ]
  },
  {
   "cell_type": "markdown",
   "metadata": {},
   "source": [
    "### I am a financial analyst with a high school education and 38 years old"
   ]
  },
  {
   "cell_type": "code",
   "execution_count": null,
   "metadata": {},
   "outputs": [],
   "source": [
    "# I am a Financial Analyst with a High School education and 38 years old. Compute median gender pay gap.\n",
    "\n",
    "yours = (pay['jobtitle']=='Financial Analyst') & (pay['education']=='High School') & (pay['age']>35) & (pay['age']<54)\n",
    "your_pay = pay[yours].groupby('gender')['basepay'].median()\n",
    "your_pay_gap = ((your_pay.loc['Male']-your_pay.loc['Female'])/your_pay.loc['Male'])*100\n",
    "print(f\"The gender pay gap based on your context is {your_pay_gap:.1f}%\")\n",
    "pay[yours].groupby('gender')['basepay'].median().plot.bar();\n",
    "plt.title('Median Base Pay', fontsize=17);"
   ]
  },
  {
   "cell_type": "markdown",
   "metadata": {},
   "source": [
    "### I am working in IT with a PhD and 50 years old"
   ]
  },
  {
   "cell_type": "code",
   "execution_count": null,
   "metadata": {},
   "outputs": [],
   "source": [
    "# I am working in IT with PhD and 50 years old. Compute median gender pay gap.\n",
    "\n",
    "yours = (pay['jobtitle']=='IT') & (pay['education']=='PhD') & (pay['age']>35) & (pay['age']<54)\n",
    "your_pay = pay[yours].groupby('gender')['basepay'].median()\n",
    "your_pay_gap = ((your_pay.loc['Male']-your_pay.loc['Female'])/your_pay.loc['Male'])*100\n",
    "print(f\"The gender pay gap based on your context is {your_pay_gap:.1f}%\")\n",
    "pay[yours].groupby('gender')['basepay'].median().plot.bar();\n",
    "plt.title('Median Base Pay', fontsize=17);"
   ]
  },
  {
   "cell_type": "code",
   "execution_count": null,
   "metadata": {},
   "outputs": [],
   "source": []
  },
  {
   "cell_type": "code",
   "execution_count": null,
   "metadata": {},
   "outputs": [],
   "source": []
  },
  {
   "cell_type": "code",
   "execution_count": null,
   "metadata": {},
   "outputs": [],
   "source": [
    "# import LabelEncoder\n",
    "\n",
    "from sklearn.preprocessing import LabelEncoder"
   ]
  },
  {
   "cell_type": "code",
   "execution_count": null,
   "metadata": {},
   "outputs": [],
   "source": [
    "# labelencode gender and jobtitle\n",
    "\n",
    "le = LabelEncoder()\n",
    "pay['gender_le'] = le.fit_transform(pay.gender)\n",
    "pay['jobtitle_le'] = le.fit_transform(pay.jobtitle)\n",
    "pay['education_le'] = le.fit_transform(pay.education)"
   ]
  },
  {
   "cell_type": "code",
   "execution_count": null,
   "metadata": {},
   "outputs": [],
   "source": [
    "pay.head()"
   ]
  },
  {
   "cell_type": "markdown",
   "metadata": {},
   "source": [
    "### We need to do further examination to determine the reason for gender pay gap"
   ]
  },
  {
   "cell_type": "code",
   "execution_count": null,
   "metadata": {
    "scrolled": false
   },
   "outputs": [],
   "source": [
    "# plot total number of males and females by job titles\n",
    "\n",
    "fig = plt.gcf()\n",
    "fig.set_size_inches(18,70)\n",
    "plt.subplot(6,1,1)\n",
    "\n",
    "sns.countplot(data=pay, x='jobtitle', hue='gender');\n",
    "locs, labels = plt.xticks();\n",
    "plt.setp(labels, rotation=45, fontsize=14);\n",
    "plt.title('Comparing Gender Numbers By Job Titles', fontsize=19);\n",
    "plt.xlabel('');\n",
    "\n",
    "plt.subplot(6,1,2)\n",
    "sns.barplot(data=pay, x='jobtitle', y='basepay', hue='gender', estimator=np.median, ci=None);\n",
    "locs, labels = plt.xticks();\n",
    "plt.setp(labels, rotation=45 , fontsize=14);\n",
    "plt.title('Median Base Pay By Job Titles By Gender', fontsize=19);\n",
    "plt.xlabel('');\n",
    "\n",
    "\n",
    "plt.subplot(6,1,3)\n",
    "pay.groupby('jobtitle')['basepay'].median().sort_values().plot.barh();\n",
    "plt.title('Median Base Pay By Job Titles', fontsize=19);\n",
    "plt.xlabel('Base Pay', fontsize=14);\n",
    "\n",
    "\n",
    "plt.tight_layout()\n",
    "plt.show()"
   ]
  },
  {
   "cell_type": "markdown",
   "metadata": {},
   "source": [
    "### By close examination of the data, we can see that the first 6 most highly paid jobs has males than females.  This shows occupational segregation by the dominant male group which is one of the reason for gender pay gap.  This is a sign of occupation segregation which leads to gender pay gap.  Therefore we need to do some adjustments to compare base pay based on the same age group, education, job titles etc."
   ]
  },
  {
   "cell_type": "code",
   "execution_count": null,
   "metadata": {
    "scrolled": true
   },
   "outputs": [],
   "source": [
    "# we will do a gender pay comparison based on these 7 occupations where there is a more balanced participation in \n",
    "# both genders\n",
    "\n",
    "jt = ['Data Scientist', 'Graphic Designer', 'Warehouse Associate','Sales Associate', 'Financial Analyst',\\\n",
    "     'Driver','IT']\n",
    "edu = ['PhD', 'Masters','College','High School']\n",
    "start_age = 35\n",
    "end_age = 54\n",
    "\n",
    "sum = []\n",
    "\n",
    "for w in jt:\n",
    "    for k in edu:\n",
    "        Req1 = (pay['jobtitle']== w) & (pay['education']==k) & (pay['age']>=start_age) & (pay['age']<=end_age)\n",
    "        Req_1_compare = pay[Req1].groupby('gender')['basepay'].median()\n",
    "        b = (Req_1_compare.loc['Male'] - Req_1_compare.loc['Female'])/(Req_1_compare.loc['Male'])\n",
    "        case = {'jobtitle': w, 'education': k ,'diff_in_median_pay': b}\n",
    "        sum.append(case)\n",
    "        \n",
    "summary = pd.DataFrame(sum, columns=['jobtitle','education','diff_in_median_pay'])\n",
    "summary\n",
    "        "
   ]
  },
  {
   "cell_type": "code",
   "execution_count": null,
   "metadata": {},
   "outputs": [],
   "source": [
    "# average gap in median gender pay \n",
    "\n",
    "summary.groupby('jobtitle')['diff_in_median_pay'].mean().plot.bar();\n",
    "plt.title('Differences In Gender Median Pay', fontsize=17);"
   ]
  },
  {
   "cell_type": "code",
   "execution_count": null,
   "metadata": {},
   "outputs": [],
   "source": [
    "# average gap by jobtitle and education\n",
    "\n",
    "fig = plt.gcf()\n",
    "fig.set_size_inches(18,15)\n",
    "\n",
    "sns.barplot(data = summary, y='jobtitle', x='diff_in_median_pay', hue='education');\n",
    "plt.title('Differences In Gender Median Pay', fontsize=17);"
   ]
  },
  {
   "cell_type": "code",
   "execution_count": null,
   "metadata": {},
   "outputs": [],
   "source": [
    "# average adjusted gender pay gap\n",
    "\n",
    "summary = round(summary['diff_in_median_pay'].mean()*100,1)\n",
    "print(f\"The adjusted gender pay gap is {summary}%\")"
   ]
  },
  {
   "cell_type": "code",
   "execution_count": null,
   "metadata": {},
   "outputs": [],
   "source": [
    "jt = ['Data Scientist', 'Graphic Designer', 'Warehouse Associate','Sales Associate', 'Financial Analyst',\\\n",
    "     'Driver','IT']\n",
    "\n",
    "adjusted_jobtitle = []\n",
    "for i in jt:\n",
    "    a = pay[pay['jobtitle']==i]\n",
    "    adjusted_jobtitle.append(a)\n",
    "adjusted_jobtitle=pd.concat(adjusted_jobtitle)\n",
    "adjusted_jobtitle"
   ]
  },
  {
   "cell_type": "markdown",
   "metadata": {},
   "source": [
    "### Let's play a game, we will train the machine to identify relationship between basepay and genders (together with other fetures such as education, age, job title etc.  If the machine gets it right most of the time, you win.  Meaning, there are patterns and biases which enables the machine to predict correctly.  "
   ]
  },
  {
   "cell_type": "code",
   "execution_count": null,
   "metadata": {},
   "outputs": [],
   "source": [
    "# import Logistic Regression\n",
    "\n",
    "from sklearn.linear_model import LogisticRegression\n",
    "lr = LogisticRegression()\n",
    "\n",
    "#import sklearn confusion matrix\n",
    "\n",
    "from sklearn.metrics import confusion_matrix"
   ]
  },
  {
   "cell_type": "code",
   "execution_count": null,
   "metadata": {},
   "outputs": [],
   "source": [
    "# import KFold\n",
    "\n",
    "from sklearn.model_selection import KFold\n",
    "\n",
    "X = adjusted_jobtitle.loc[:,['basepay','education_le','jobtitle_le','age']]\n",
    "y = adjusted_jobtitle['gender_le']\n",
    "t=10\n",
    "kf = KFold(n_splits=t, random_state=2, shuffle=True)\n"
   ]
  },
  {
   "cell_type": "code",
   "execution_count": null,
   "metadata": {},
   "outputs": [],
   "source": [
    "# fit the Logistic Regression model and predict the score\n",
    "# initialize kfold split\n",
    "\n",
    "acc = []\n",
    "conf_mat_acc = []\n",
    "\n",
    "# prediction part\n",
    "for train, test in kf.split(X):\n",
    "    X_train, X_test = X.iloc[train,:], X.iloc[test,:]\n",
    "    y_train, y_test = y.iloc[train], y.iloc[test]\n",
    "    lr.fit(X_train, y_train)\n",
    "    y_pred = lr.predict(X_test)\n",
    "    \n",
    "    # compute accuracy score for classification\n",
    "    acc.append(round(np.mean(y_pred==y_test),2))\n",
    "    \n",
    "result = len([k for k in acc if k > 0.5])\n",
    "acc_avg = np.sum(acc)/len(acc)\n",
    "\n",
    "print(f\"There are {result} out of {t} tries which are > 0.5\")\n",
    "print(f\"The accuracy score of all {t} attempts are: {acc}\")\n",
    "print(f\"The average accuracy score is {acc_avg:.2f}\")"
   ]
  },
  {
   "cell_type": "code",
   "execution_count": null,
   "metadata": {
    "scrolled": false
   },
   "outputs": [],
   "source": [
    "# plot the graph to show all the outcomes of prediction\n",
    "\n",
    "attempts = np.arange(1,len(acc)+1)\n",
    "sns.barplot(x=attempts, y=acc, palette='mako');\n",
    "plt.title('Outcomes In Identifying Genders (Logistic Regression)', fontsize=17);\n",
    "plt.xlabel('Number Of Attempts In Prediction' , fontsize=12);\n",
    "plt.ylabel('Correct Answer In Proportion To The Total', fontsize=12);"
   ]
  },
  {
   "cell_type": "code",
   "execution_count": null,
   "metadata": {},
   "outputs": [],
   "source": []
  }
 ],
 "metadata": {
  "kernelspec": {
   "display_name": "Python 3.10.8 64-bit (microsoft store)",
   "language": "python",
   "name": "python3"
  },
  "language_info": {
   "codemirror_mode": {
    "name": "ipython",
    "version": 3
   },
   "file_extension": ".py",
   "mimetype": "text/x-python",
   "name": "python",
   "nbconvert_exporter": "python",
   "pygments_lexer": "ipython3",
   "version": "3.10.8"
  },
  "vscode": {
   "interpreter": {
    "hash": "1f56958517e0e6b43868e47d652ac4c144a964981f9eec75f43ea86525d28fda"
   }
  }
 },
 "nbformat": 4,
 "nbformat_minor": 4
}
